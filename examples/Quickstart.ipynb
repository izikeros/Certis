{
 "cells": [
  {
   "cell_type": "markdown",
   "metadata": {
    "tags": []
   },
   "source": [
    "# Certis Quickstart"
   ]
  },
  {
   "cell_type": "markdown",
   "metadata": {
    "pycharm": {
     "name": "#%% md\n"
    }
   },
   "source": [
    "## This notebook is a demonstration of:\n",
    "- supported order types (list all of them)\n",
    "- defining basic strategy (Simple Moving Average - SMA)\n",
    "- downloading financial timeseries from yahoo finance\n",
    "- input data format\n",
    "- initialization of MarketInfo object (parameters that characterize given exchange, e.g. transaction fees)\n",
    "- initialization and run of engine (combined"
   ]
  },
  {
   "cell_type": "code",
   "execution_count": 1,
   "metadata": {},
   "outputs": [],
   "source": [
    "# Add parent directory to path\n",
    "import sys; sys.path.insert(0, '..')"
   ]
  },
  {
   "cell_type": "code",
   "execution_count": 2,
   "metadata": {},
   "outputs": [],
   "source": [
    "import certis\n",
    "from typing import *"
   ]
  },
  {
   "cell_type": "markdown",
   "metadata": {
    "tags": []
   },
   "source": [
    "# Supported Order Types\n",
    "- LIMIT\n",
    "- MARKET\n",
    "- STOP_MARKET\n",
    "- STOP_LOSS_MARKET\n",
    "- TAKE_PROFIT_MARKET\n",
    "\n",
    "<a href=\"https://www.investor.gov/introduction-investing/investing-basics/how-stock-markets-work/types-orders\"> order type docs for beginners"
   ]
  },
  {
   "cell_type": "code",
   "execution_count": 3,
   "metadata": {},
   "outputs": [
    {
     "data": {
      "text/plain": [
       "['MARKET', 'LIMIT', 'STOP_MARKET', 'STOP_LOSS_MARKET', 'TAKE_PROFIT_MARKET']"
      ]
     },
     "execution_count": 3,
     "metadata": {},
     "output_type": "execute_result"
    }
   ],
   "source": [
    "certis.OrderType.ORDERS"
   ]
  },
  {
   "cell_type": "markdown",
   "metadata": {},
   "source": [
    "# Supportd Order Sides\n",
    "LONG: betting for upside\n",
    "SHORT: betting for downside"
   ]
  },
  {
   "cell_type": "code",
   "execution_count": 4,
   "metadata": {},
   "outputs": [
    {
     "name": "stdout",
     "output_type": "stream",
     "text": [
      "certis.OrderSide.LONG: 1\n",
      "certis.OrderSide.SHORT: -1\n"
     ]
    }
   ],
   "source": [
    "print(\"certis.OrderSide.LONG:\", certis.OrderSide.LONG)\n",
    "print(\"certis.OrderSide.SHORT:\", certis.OrderSide.SHORT)"
   ]
  },
  {
   "cell_type": "code",
   "execution_count": 5,
   "metadata": {},
   "outputs": [],
   "source": [
    "#from pprint import pprint"
   ]
  },
  {
   "cell_type": "code",
   "execution_count": 6,
   "metadata": {},
   "outputs": [],
   "source": [
    "#pprint({\"margin\": 10000, \"portfolio_value\": 10000.0, \"position\": {\"size\": 0, \"side\": 0, \"avg_price\": 0, \"unrealized_pnl\": 0.0}, \"has_position\": \"False\", \"timestamp\": 1579076100000000000}, indent=False)"
   ]
  },
  {
   "cell_type": "markdown",
   "metadata": {},
   "source": [
    "# Writing Trading Strategy With Certis\n",
    "- function certis.Startegy.execute() -> executes order with given data and account info\n",
    "- function certis.Strategy.calculate() -> calculates indicators, etc with given raw data\n",
    "\n",
    "# MA Cross Strategy\n",
    "- In this Tutorial, We will write a simple strategy called \"MA Cross Strategy\"\n",
    "- BUY WHEN CLOSE > MA(CLOSE, 5)\n",
    "- SELL WHEN CLOSE < MA(CLOSE, 5)"
   ]
  },
  {
   "cell_type": "code",
   "execution_count": 7,
   "metadata": {},
   "outputs": [],
   "source": [
    "class MyFirstStrategy(certis.Strategy):\n",
    "    def __init__(self, config):\n",
    "        # config: Dict[str, Any]: config for this strategy\n",
    "        # name: str: name for this strategy\n",
    "        super().__init__(config, \"MyFirstStrategy\")\n",
    "        self.ma_period = config[\"MA_PERIOD\"]\n",
    "\n",
    "    def calculate(self, data):\n",
    "        # data: pd.DataFrame contains [open, high, low, close, volume, timestamp]\n",
    "        # calculations here\n",
    "        data[\"MA\"] = data[\"close\"].rolling(self.ma_period).mean()\n",
    "        return data\n",
    "\n",
    "    def execute(self, state_dict) -> List[certis.core.Action]:\n",
    "        actions = []\n",
    "\n",
    "        \"\"\"\n",
    "        state_dict example:\n",
    "            {\n",
    "                'has_position': 0,\n",
    "                 'margin': 10000,\n",
    "                 'portfolio_value': 10000.0,\n",
    "                 'position': {\n",
    "                     'avg_price': 0,\n",
    "                     'side': 0,\n",
    "                     'size': 0,\n",
    "                     'unrealized_pnl': 0.0\n",
    "                 },\n",
    "                 'timestamp': 1579076100000000000\n",
    "            }\n",
    "        \"\"\"\n",
    "\n",
    "        has_position = state_dict[\"account_info\"][\"has_position\"]\n",
    "        portfolio_value = state_dict[\"account_info\"][\"portfolio_value\"]\n",
    "        position_size = state_dict[\"account_info\"][\"position\"][\"size\"]\n",
    "        data = state_dict[\"data\"]\n",
    "\n",
    "        if not state_dict[\"account_info\"][\"has_position\"]:\n",
    "            if data[\"close\"] > data[\"MA\"]: # if above ma\n",
    "                order = certis.Order(\n",
    "                    order_type=certis.OrderType.MARKET,\n",
    "                    order_quantity=portfolio_value / data[\"close\"], # full bet!,\n",
    "                    order_side=certis.OrderSide.LONG,\n",
    "                    order_price=None, # MARKET ORDER\n",
    "                    reduce_only=False\n",
    "                )\n",
    "                actions.append(order)\n",
    "\n",
    "        else:\n",
    "            if data[\"close\"] < data[\"MA\"]:\n",
    "                order = certis.Order(\n",
    "                    order_type=certis.OrderType.MARKET,\n",
    "                    order_quantity=position_size, # full bet!,\n",
    "                    order_side=certis.OrderSide.SHORT,\n",
    "                    order_price=None, # MARKET ORDER\n",
    "                    reduce_only=True\n",
    "                )\n",
    "                actions.append(order)\n",
    "\n",
    "        return actions\n"
   ]
  },
  {
   "cell_type": "markdown",
   "metadata": {},
   "source": [
    "# Market Info Object\n",
    "- essential market info for the backtesting\n",
    "- maker fee: fee for limit orders\n",
    "- taker fee: fee for market orders\n",
    "- slippage: slippage applied for market orders\n",
    "- tick_size: tick size\n",
    "- minimum_order_size: minimum order size"
   ]
  },
  {
   "cell_type": "code",
   "execution_count": 8,
   "metadata": {},
   "outputs": [],
   "source": [
    "market_info = certis.MarketInfo(\n",
    "    maker_fee=0.001,\n",
    "    taker_fee=0.001,\n",
    "    slippage=0.001,\n",
    "    minimum_order_size=0.001,\n",
    "    tick_size=0.01\n",
    ")"
   ]
  },
  {
   "cell_type": "markdown",
   "metadata": {},
   "source": [
    "# Load data\n",
    "Certis Supports pandas DataFrame with `[timestamp, open, high, low, close, volume]` with datetime indexes"
   ]
  },
  {
   "cell_type": "code",
   "execution_count": 27,
   "metadata": {},
   "outputs": [],
   "source": [
    "from yfinance import Ticker\n",
    "\n",
    "data = Ticker(\"BTC-USD\").history(period=\"max\")\n",
    "data = data[data.columns[:5]]\n",
    "data.columns = [\"open\", \"high\", \"low\", \"close\", \"volume\"]\n",
    "data[\"timestamp\"] = data.index.astype(int)\n",
    "fin_data = data.copy()"
   ]
  },
  {
   "cell_type": "markdown",
   "metadata": {},
   "source": [
    "# Initialize Engine\n",
    "### to initialize certis backtesting engine, you need following components:\n",
    "- data: pandas DataFrame\n",
    "- initial margin: float\n",
    "- market info: MarketInfo Object\n",
    "- strategy: Strategy Class\n",
    "- strategy config: strategy config"
   ]
  },
  {
   "cell_type": "code",
   "execution_count": 49,
   "metadata": {},
   "outputs": [],
   "source": [
    "MA_WINDOW = 7\n",
    "initial_margin = 100000\n",
    "strategy_config = {\"MA_PERIOD\": MA_WINDOW}\n",
    "\n",
    "engine = certis.Engine(\n",
    "    data,\n",
    "    initial_margin,\n",
    "    market_info,\n",
    "    MyFirstStrategy,\n",
    "    strategy_config\n",
    ")"
   ]
  },
  {
   "cell_type": "code",
   "execution_count": 50,
   "metadata": {},
   "outputs": [
    {
     "name": "stderr",
     "output_type": "stream",
     "text": [
      "100%|████████████████████████████████████████████████████████████████████████████████████████████████████████████████████████████████████████████████████████████████████████████████████████████████████████████| 2831/2831 [00:00<00:00, 60010.69it/s]\n"
     ]
    },
    {
     "data": {
      "text/plain": [
       "<certis.base.Logger at 0x12bd0aee0>"
      ]
     },
     "execution_count": 50,
     "metadata": {},
     "output_type": "execute_result"
    }
   ],
   "source": [
    "engine.run()"
   ]
  },
  {
   "cell_type": "markdown",
   "metadata": {},
   "source": [
    "# Analyzing Results\n",
    "The data for analysis can be obtained from the logger.\n",
    "- `engine.logger.account_infos`:  account info for timestamp-by-timestamp\n",
    "- `engine.logger.transactions`:   order fill (transactions)\n",
    "- `engine.logger.unfilled_order`: unfilled order for timestamp-by-timestamp"
   ]
  },
  {
   "cell_type": "code",
   "execution_count": 51,
   "metadata": {},
   "outputs": [],
   "source": [
    "import pandas as pd\n",
    "import matplotlib.pyplot as plt"
   ]
  },
  {
   "cell_type": "code",
   "execution_count": 52,
   "metadata": {},
   "outputs": [],
   "source": [
    "account_info_df = pd.DataFrame(engine.logger.account_infos)\n",
    "account_info_df.index = pd.to_datetime(account_info_df[\"timestamp\"])"
   ]
  },
  {
   "cell_type": "markdown",
   "metadata": {
    "pycharm": {
     "name": "#%% md\n"
    }
   },
   "source": [
    "## Account info from the logger in form of Data Frame"
   ]
  },
  {
   "cell_type": "code",
   "execution_count": 53,
   "metadata": {},
   "outputs": [
    {
     "data": {
      "text/html": [
       "<div>\n",
       "<style scoped>\n",
       "    .dataframe tbody tr th:only-of-type {\n",
       "        vertical-align: middle;\n",
       "    }\n",
       "\n",
       "    .dataframe tbody tr th {\n",
       "        vertical-align: top;\n",
       "    }\n",
       "\n",
       "    .dataframe thead th {\n",
       "        text-align: right;\n",
       "    }\n",
       "</style>\n",
       "<table border=\"1\" class=\"dataframe\">\n",
       "  <thead>\n",
       "    <tr style=\"text-align: right;\">\n",
       "      <th></th>\n",
       "      <th>margin</th>\n",
       "      <th>portfolio_value</th>\n",
       "      <th>position</th>\n",
       "      <th>has_position</th>\n",
       "      <th>timestamp</th>\n",
       "    </tr>\n",
       "    <tr>\n",
       "      <th>timestamp</th>\n",
       "      <th></th>\n",
       "      <th></th>\n",
       "      <th></th>\n",
       "      <th></th>\n",
       "      <th></th>\n",
       "    </tr>\n",
       "  </thead>\n",
       "  <tbody>\n",
       "    <tr>\n",
       "      <th>2014-09-24</th>\n",
       "      <td>100000.000000</td>\n",
       "      <td>100000.000000</td>\n",
       "      <td>{'size': 0, 'side': 0, 'avg_price': 0, 'unreal...</td>\n",
       "      <td>0</td>\n",
       "      <td>1.411517e+18</td>\n",
       "    </tr>\n",
       "    <tr>\n",
       "      <th>2014-09-25</th>\n",
       "      <td>99899.911084</td>\n",
       "      <td>96922.573678</td>\n",
       "      <td>{'size': 229.467, 'side': 1.0, 'avg_price': 43...</td>\n",
       "      <td>1</td>\n",
       "      <td>1.411603e+18</td>\n",
       "    </tr>\n",
       "    <tr>\n",
       "      <th>2014-09-26</th>\n",
       "      <td>99899.911084</td>\n",
       "      <td>94253.647258</td>\n",
       "      <td>{'size': 229.467, 'side': 1.0, 'avg_price': 43...</td>\n",
       "      <td>1</td>\n",
       "      <td>1.411690e+18</td>\n",
       "    </tr>\n",
       "  </tbody>\n",
       "</table>\n",
       "</div>"
      ],
      "text/plain": [
       "                   margin  portfolio_value  \\\n",
       "timestamp                                    \n",
       "2014-09-24  100000.000000    100000.000000   \n",
       "2014-09-25   99899.911084     96922.573678   \n",
       "2014-09-26   99899.911084     94253.647258   \n",
       "\n",
       "                                                     position  has_position  \\\n",
       "timestamp                                                                     \n",
       "2014-09-24  {'size': 0, 'side': 0, 'avg_price': 0, 'unreal...             0   \n",
       "2014-09-25  {'size': 229.467, 'side': 1.0, 'avg_price': 43...             1   \n",
       "2014-09-26  {'size': 229.467, 'side': 1.0, 'avg_price': 43...             1   \n",
       "\n",
       "               timestamp  \n",
       "timestamp                 \n",
       "2014-09-24  1.411517e+18  \n",
       "2014-09-25  1.411603e+18  \n",
       "2014-09-26  1.411690e+18  "
      ]
     },
     "execution_count": 53,
     "metadata": {},
     "output_type": "execute_result"
    }
   ],
   "source": [
    "account_info_df.head(3)"
   ]
  },
  {
   "cell_type": "code",
   "execution_count": 54,
   "metadata": {
    "pycharm": {
     "name": "#%%\n"
    }
   },
   "outputs": [
    {
     "data": {
      "text/plain": [
       "{'size': 0, 'side': 0, 'avg_price': 0, 'unrealized_pnl': 0.0}"
      ]
     },
     "execution_count": 54,
     "metadata": {},
     "output_type": "execute_result"
    }
   ],
   "source": [
    "account_info_df.iloc[5].position"
   ]
  },
  {
   "cell_type": "markdown",
   "metadata": {
    "pycharm": {
     "name": "#%% md\n"
    }
   },
   "source": [
    "## Plot portfolio value\n",
    "On the plot below there is:\n",
    "- portfolio value in given point of time relative to the initial portfolio value\n",
    "- BTC value in given point of time relative to the initial BTC value"
   ]
  },
  {
   "cell_type": "code",
   "execution_count": 55,
   "metadata": {},
   "outputs": [
    {
     "data": {
      "image/png": "[encoded data removed]",
      "text/plain": [
       "<Figure size 1440x720 with 1 Axes>"
      ]
     },
     "metadata": {
      "needs_background": "light"
     },
     "output_type": "display_data"
    }
   ],
   "source": [
    "(account_info_df[\"portfolio_value\"] / initial_margin).plot(label=\"equity\", figsize=(20, 10))\n",
    "ax = (data[\"close\"] / data[\"close\"][0]).plot(label=\"BTC-USD\")\n",
    "plt.legend()\n",
    "ax.set_title('Portfolio value compared to Bitcoin Price');\n",
    "ax.set_ylabel('relative value change [x]');"
   ]
  },
  {
   "cell_type": "code",
   "execution_count": 56,
   "metadata": {
    "pycharm": {
     "name": "#%%\n"
    }
   },
   "outputs": [
    {
     "data": {
      "text/plain": [
       "[{'timestamp': 1411516800000000000,\n",
       "  'realized': {'pnl': 0, 'fee': 100.08891606},\n",
       "  'order': {'price': 436.18,\n",
       "   'quantity': 229.467,\n",
       "   'side': 1,\n",
       "   'type': 'MARKET'}},\n",
       " {'timestamp': 1411776000000000000,\n",
       "  'realized': {'pnl': -7579.295009999994, 'fee': 92.50962105000002},\n",
       "  'order': {'price': 403.15000000000003,\n",
       "   'quantity': 229.467,\n",
       "   'side': -1,\n",
       "   'type': 'MARKET'}}]"
      ]
     },
     "execution_count": 56,
     "metadata": {},
     "output_type": "execute_result"
    }
   ],
   "source": [
    "engine.logger.transactions[:2]"
   ]
  },
  {
   "cell_type": "code",
   "execution_count": 57,
   "metadata": {
    "pycharm": {
     "name": "#%%\n"
    }
   },
   "outputs": [
    {
     "data": {
      "text/html": [
       "<div>\n",
       "<style scoped>\n",
       "    .dataframe tbody tr th:only-of-type {\n",
       "        vertical-align: middle;\n",
       "    }\n",
       "\n",
       "    .dataframe tbody tr th {\n",
       "        vertical-align: top;\n",
       "    }\n",
       "\n",
       "    .dataframe thead th {\n",
       "        text-align: right;\n",
       "    }\n",
       "</style>\n",
       "<table border=\"1\" class=\"dataframe\">\n",
       "  <thead>\n",
       "    <tr style=\"text-align: right;\">\n",
       "      <th></th>\n",
       "      <th>timestamp</th>\n",
       "      <th>realized</th>\n",
       "      <th>order</th>\n",
       "    </tr>\n",
       "    <tr>\n",
       "      <th>timestamp</th>\n",
       "      <th></th>\n",
       "      <th></th>\n",
       "      <th></th>\n",
       "    </tr>\n",
       "  </thead>\n",
       "  <tbody>\n",
       "    <tr>\n",
       "      <th>2020-07-02</th>\n",
       "      <td>1593648000000000000</td>\n",
       "      <td>{'pnl': 0, 'fee': 5309.45191941}</td>\n",
       "      <td>{'price': 9240.37, 'quantity': 574.593, 'side'...</td>\n",
       "    </tr>\n",
       "    <tr>\n",
       "      <th>2020-06-04</th>\n",
       "      <td>1591228800000000000</td>\n",
       "      <td>{'pnl': 0, 'fee': 5919.6222684800005}</td>\n",
       "      <td>{'price': 9665.51, 'quantity': 612.448, 'side'...</td>\n",
       "    </tr>\n",
       "    <tr>\n",
       "      <th>2019-04-26</th>\n",
       "      <td>1556236800000000000</td>\n",
       "      <td>{'pnl': -19679.541799999864, 'fee': 2823.42299...</td>\n",
       "      <td>{'price': 5205.09, 'quantity': 542.43500000000...</td>\n",
       "    </tr>\n",
       "    <tr>\n",
       "      <th>2019-12-10</th>\n",
       "      <td>1575936000000000000</td>\n",
       "      <td>{'pnl': -32903.858879999876, 'fee': 3561.08132...</td>\n",
       "      <td>{'price': 7389.7300000000005, 'quantity': 481....</td>\n",
       "    </tr>\n",
       "    <tr>\n",
       "      <th>2017-10-27</th>\n",
       "      <td>1509062400000000000</td>\n",
       "      <td>{'pnl': 0, 'fee': 1082.88584495}</td>\n",
       "      <td>{'price': 5905.63, 'quantity': 183.365, 'side'...</td>\n",
       "    </tr>\n",
       "  </tbody>\n",
       "</table>\n",
       "</div>"
      ],
      "text/plain": [
       "                      timestamp  \\\n",
       "timestamp                         \n",
       "2020-07-02  1593648000000000000   \n",
       "2020-06-04  1591228800000000000   \n",
       "2019-04-26  1556236800000000000   \n",
       "2019-12-10  1575936000000000000   \n",
       "2017-10-27  1509062400000000000   \n",
       "\n",
       "                                                     realized  \\\n",
       "timestamp                                                       \n",
       "2020-07-02                   {'pnl': 0, 'fee': 5309.45191941}   \n",
       "2020-06-04              {'pnl': 0, 'fee': 5919.6222684800005}   \n",
       "2019-04-26  {'pnl': -19679.541799999864, 'fee': 2823.42299...   \n",
       "2019-12-10  {'pnl': -32903.858879999876, 'fee': 3561.08132...   \n",
       "2017-10-27                   {'pnl': 0, 'fee': 1082.88584495}   \n",
       "\n",
       "                                                        order  \n",
       "timestamp                                                      \n",
       "2020-07-02  {'price': 9240.37, 'quantity': 574.593, 'side'...  \n",
       "2020-06-04  {'price': 9665.51, 'quantity': 612.448, 'side'...  \n",
       "2019-04-26  {'price': 5205.09, 'quantity': 542.43500000000...  \n",
       "2019-12-10  {'price': 7389.7300000000005, 'quantity': 481....  \n",
       "2017-10-27  {'price': 5905.63, 'quantity': 183.365, 'side'...  "
      ]
     },
     "execution_count": 57,
     "metadata": {},
     "output_type": "execute_result"
    }
   ],
   "source": [
    "transactions_df = pd.DataFrame(engine.logger.transactions)\n",
    "transactions_df.index = pd.to_datetime(transactions_df[\"timestamp\"])\n",
    "transactions_df.sample(5)"
   ]
  },
  {
   "cell_type": "code",
   "execution_count": 58,
   "metadata": {
    "pycharm": {
     "name": "#%%\n"
    }
   },
   "outputs": [
    {
     "data": {
      "text/html": [
       "<div>\n",
       "<style scoped>\n",
       "    .dataframe tbody tr th:only-of-type {\n",
       "        vertical-align: middle;\n",
       "    }\n",
       "\n",
       "    .dataframe tbody tr th {\n",
       "        vertical-align: top;\n",
       "    }\n",
       "\n",
       "    .dataframe thead th {\n",
       "        text-align: right;\n",
       "    }\n",
       "</style>\n",
       "<table border=\"1\" class=\"dataframe\">\n",
       "  <thead>\n",
       "    <tr style=\"text-align: right;\">\n",
       "      <th></th>\n",
       "      <th>pnl</th>\n",
       "      <th>fee</th>\n",
       "      <th>price</th>\n",
       "      <th>quantity</th>\n",
       "      <th>side</th>\n",
       "      <th>type</th>\n",
       "      <th>timestamp</th>\n",
       "    </tr>\n",
       "  </thead>\n",
       "  <tbody>\n",
       "    <tr>\n",
       "      <th>2014-09-24</th>\n",
       "      <td>0.00000</td>\n",
       "      <td>100.088916</td>\n",
       "      <td>436.18</td>\n",
       "      <td>229.467</td>\n",
       "      <td>1</td>\n",
       "      <td>MARKET</td>\n",
       "      <td>1411516800000000000</td>\n",
       "    </tr>\n",
       "    <tr>\n",
       "      <th>2014-09-27</th>\n",
       "      <td>-7579.29501</td>\n",
       "      <td>92.509621</td>\n",
       "      <td>403.15</td>\n",
       "      <td>229.467</td>\n",
       "      <td>-1</td>\n",
       "      <td>MARKET</td>\n",
       "      <td>1411776000000000000</td>\n",
       "    </tr>\n",
       "    <tr>\n",
       "      <th>2014-10-09</th>\n",
       "      <td>0.00000</td>\n",
       "      <td>92.269620</td>\n",
       "      <td>353.1</td>\n",
       "      <td>261.313</td>\n",
       "      <td>1</td>\n",
       "      <td>MARKET</td>\n",
       "      <td>1412812800000000000</td>\n",
       "    </tr>\n",
       "    <tr>\n",
       "      <th>2014-10-18</th>\n",
       "      <td>7967.40288</td>\n",
       "      <td>100.236670</td>\n",
       "      <td>383.59</td>\n",
       "      <td>261.312</td>\n",
       "      <td>-1</td>\n",
       "      <td>MARKET</td>\n",
       "      <td>1413590400000000000</td>\n",
       "    </tr>\n",
       "    <tr>\n",
       "      <th>2014-10-19</th>\n",
       "      <td>0.00000</td>\n",
       "      <td>100.053446</td>\n",
       "      <td>391.64</td>\n",
       "      <td>255.473</td>\n",
       "      <td>1</td>\n",
       "      <td>MARKET</td>\n",
       "      <td>1413676800000000000</td>\n",
       "    </tr>\n",
       "    <tr>\n",
       "      <th>...</th>\n",
       "      <td>...</td>\n",
       "      <td>...</td>\n",
       "      <td>...</td>\n",
       "      <td>...</td>\n",
       "      <td>...</td>\n",
       "      <td>...</td>\n",
       "      <td>...</td>\n",
       "    </tr>\n",
       "    <tr>\n",
       "      <th>2022-06-09</th>\n",
       "      <td>-244601.49270</td>\n",
       "      <td>6061.582639</td>\n",
       "      <td>30185.06</td>\n",
       "      <td>200.814</td>\n",
       "      <td>-1</td>\n",
       "      <td>MARKET</td>\n",
       "      <td>1654732800000000000</td>\n",
       "    </tr>\n",
       "    <tr>\n",
       "      <th>2022-06-10</th>\n",
       "      <td>-1.32290</td>\n",
       "      <td>0.030080</td>\n",
       "      <td>30080.21</td>\n",
       "      <td>0.001</td>\n",
       "      <td>-1</td>\n",
       "      <td>MARKET</td>\n",
       "      <td>1654819200000000000</td>\n",
       "    </tr>\n",
       "    <tr>\n",
       "      <th>2022-06-22</th>\n",
       "      <td>0.00000</td>\n",
       "      <td>6051.368470</td>\n",
       "      <td>20740.13</td>\n",
       "      <td>291.771</td>\n",
       "      <td>1</td>\n",
       "      <td>MARKET</td>\n",
       "      <td>1655856000000000000</td>\n",
       "    </tr>\n",
       "    <tr>\n",
       "      <th>2022-06-23</th>\n",
       "      <td>-225687.78621</td>\n",
       "      <td>5825.680684</td>\n",
       "      <td>19966.62</td>\n",
       "      <td>291.771</td>\n",
       "      <td>-1</td>\n",
       "      <td>MARKET</td>\n",
       "      <td>1655942400000000000</td>\n",
       "    </tr>\n",
       "    <tr>\n",
       "      <th>2022-06-24</th>\n",
       "      <td>0.00000</td>\n",
       "      <td>5818.403402</td>\n",
       "      <td>21133.93</td>\n",
       "      <td>275.311</td>\n",
       "      <td>1</td>\n",
       "      <td>MARKET</td>\n",
       "      <td>1656028800000000000</td>\n",
       "    </tr>\n",
       "  </tbody>\n",
       "</table>\n",
       "<p>569 rows × 7 columns</p>\n",
       "</div>"
      ],
      "text/plain": [
       "                     pnl          fee     price quantity side    type  \\\n",
       "2014-09-24       0.00000   100.088916    436.18  229.467    1  MARKET   \n",
       "2014-09-27   -7579.29501    92.509621    403.15  229.467   -1  MARKET   \n",
       "2014-10-09       0.00000    92.269620     353.1  261.313    1  MARKET   \n",
       "2014-10-18    7967.40288   100.236670    383.59  261.312   -1  MARKET   \n",
       "2014-10-19       0.00000   100.053446    391.64  255.473    1  MARKET   \n",
       "...                  ...          ...       ...      ...  ...     ...   \n",
       "2022-06-09 -244601.49270  6061.582639  30185.06  200.814   -1  MARKET   \n",
       "2022-06-10      -1.32290     0.030080  30080.21    0.001   -1  MARKET   \n",
       "2022-06-22       0.00000  6051.368470  20740.13  291.771    1  MARKET   \n",
       "2022-06-23 -225687.78621  5825.680684  19966.62  291.771   -1  MARKET   \n",
       "2022-06-24       0.00000  5818.403402  21133.93  275.311    1  MARKET   \n",
       "\n",
       "                      timestamp  \n",
       "2014-09-24  1411516800000000000  \n",
       "2014-09-27  1411776000000000000  \n",
       "2014-10-09  1412812800000000000  \n",
       "2014-10-18  1413590400000000000  \n",
       "2014-10-19  1413676800000000000  \n",
       "...                         ...  \n",
       "2022-06-09  1654732800000000000  \n",
       "2022-06-10  1654819200000000000  \n",
       "2022-06-22  1655856000000000000  \n",
       "2022-06-23  1655942400000000000  \n",
       "2022-06-24  1656028800000000000  \n",
       "\n",
       "[569 rows x 7 columns]"
      ]
     },
     "execution_count": 58,
     "metadata": {},
     "output_type": "execute_result"
    }
   ],
   "source": [
    "realized = pd.DataFrame(transactions_df.realized.to_dict()).T\n",
    "order = pd.DataFrame(transactions_df.order.to_dict()).T\n",
    "re_ord=realized.join(order)\n",
    "tr = re_ord.join(transactions_df).drop(['realized','order'], axis=1)\n",
    "tr"
   ]
  },
  {
   "cell_type": "code",
   "execution_count": 59,
   "metadata": {
    "pycharm": {
     "name": "#%%\n"
    }
   },
   "outputs": [
    {
     "data": {
      "text/plain": [
       "<matplotlib.collections.PathCollection at 0x12d68b2b0>"
      ]
     },
     "execution_count": 59,
     "metadata": {},
     "output_type": "execute_result"
    },
    {
     "data": {
      "image/png": "[encoded data removed]",
      "text/plain": [
       "<Figure size 1152x360 with 1 Axes>"
      ]
     },
     "metadata": {
      "needs_background": "light"
     },
     "output_type": "display_data"
    }
   ],
   "source": [
    "f, axs = plt.subplots(\n",
    "    nrows=1,\n",
    "    ncols=1,\n",
    "    figsize=(16, 5),\n",
    ")\n",
    "buys = tr[tr.side==1]\n",
    "sells = tr[tr.side==-1]\n",
    "price = data['close']\n",
    "sma = data.rolling(window=MA_WINDOW).mean().dropna()\n",
    "sma = pd.DataFrame(sma['close'])\n",
    "price.plot(ax=axs)\n",
    "axs.scatter(buys.index,buys.price, alpha=0.8, label=\"Buy\", marker=\"^\", color=\"green\")\n",
    "axs.scatter(sells.index,sells.price, alpha=0.8, label=\"Sell\", marker=\"v\", color=\"red\")\n"
   ]
  },
  {
   "cell_type": "code",
   "execution_count": 60,
   "metadata": {},
   "outputs": [
    {
     "data": {
      "text/html": [
       "<div>\n",
       "<style scoped>\n",
       "    .dataframe tbody tr th:only-of-type {\n",
       "        vertical-align: middle;\n",
       "    }\n",
       "\n",
       "    .dataframe tbody tr th {\n",
       "        vertical-align: top;\n",
       "    }\n",
       "\n",
       "    .dataframe thead th {\n",
       "        text-align: right;\n",
       "    }\n",
       "</style>\n",
       "<table border=\"1\" class=\"dataframe\">\n",
       "  <thead>\n",
       "    <tr style=\"text-align: right;\">\n",
       "      <th></th>\n",
       "      <th>close</th>\n",
       "    </tr>\n",
       "    <tr>\n",
       "      <th>Date</th>\n",
       "      <th></th>\n",
       "    </tr>\n",
       "  </thead>\n",
       "  <tbody>\n",
       "    <tr>\n",
       "      <th>2014-09-29</th>\n",
       "      <td>403.880423</td>\n",
       "    </tr>\n",
       "    <tr>\n",
       "      <th>2014-09-30</th>\n",
       "      <td>396.902283</td>\n",
       "    </tr>\n",
       "    <tr>\n",
       "      <th>2014-10-01</th>\n",
       "      <td>391.246569</td>\n",
       "    </tr>\n",
       "    <tr>\n",
       "      <th>2014-10-02</th>\n",
       "      <td>386.031996</td>\n",
       "    </tr>\n",
       "    <tr>\n",
       "      <th>2014-10-03</th>\n",
       "      <td>379.615853</td>\n",
       "    </tr>\n",
       "    <tr>\n",
       "      <th>...</th>\n",
       "      <td>...</td>\n",
       "    </tr>\n",
       "    <tr>\n",
       "      <th>2022-06-20</th>\n",
       "      <td>20829.030971</td>\n",
       "    </tr>\n",
       "    <tr>\n",
       "      <th>2022-06-21</th>\n",
       "      <td>20615.288783</td>\n",
       "    </tr>\n",
       "    <tr>\n",
       "      <th>2022-06-22</th>\n",
       "      <td>20245.887277</td>\n",
       "    </tr>\n",
       "    <tr>\n",
       "      <th>2022-06-23</th>\n",
       "      <td>20346.491071</td>\n",
       "    </tr>\n",
       "    <tr>\n",
       "      <th>2022-06-24</th>\n",
       "      <td>20457.910156</td>\n",
       "    </tr>\n",
       "  </tbody>\n",
       "</table>\n",
       "<p>2826 rows × 1 columns</p>\n",
       "</div>"
      ],
      "text/plain": [
       "                   close\n",
       "Date                    \n",
       "2014-09-29    403.880423\n",
       "2014-09-30    396.902283\n",
       "2014-10-01    391.246569\n",
       "2014-10-02    386.031996\n",
       "2014-10-03    379.615853\n",
       "...                  ...\n",
       "2022-06-20  20829.030971\n",
       "2022-06-21  20615.288783\n",
       "2022-06-22  20245.887277\n",
       "2022-06-23  20346.491071\n",
       "2022-06-24  20457.910156\n",
       "\n",
       "[2826 rows x 1 columns]"
      ]
     },
     "execution_count": 60,
     "metadata": {},
     "output_type": "execute_result"
    }
   ],
   "source": [
    "sma"
   ]
  },
  {
   "cell_type": "code",
   "execution_count": 62,
   "metadata": {
    "pycharm": {
     "name": "#%%\n"
    }
   },
   "outputs": [
    {
     "data": {
      "application/vnd.jupyter.widget-view+json": {
       "model_id": "631396eab7264dd49288771c1b973e53",
       "version_major": 2,
       "version_minor": 0
      },
      "text/plain": [
       "FigureWidget({\n",
       "    'data': [{'line': {'color': '#222222'},\n",
       "              'name': 'Close',\n",
       "              'type'…"
      ]
     },
     "metadata": {},
     "output_type": "display_data"
    }
   ],
   "source": [
    "# Plotting\n",
    "\n",
    "import plotly.io as pio\n",
    "import plotly.graph_objects as go\n",
    "\n",
    "# pio.templates.default = \"plotly_dark\"\n",
    "\n",
    "fig = go.Figure()\n",
    "\n",
    "data = fin_data.copy()\n",
    "# price\n",
    "k=0.01\n",
    "fig.add_trace(go.Scatter(x=data.index,\n",
    "                         y=data['close'],\n",
    "                         name='Close',\n",
    "                         line_color='#222222'\n",
    "                        ))\n",
    "\n",
    "# # SMA\n",
    "fig.add_trace(go.Scatter(x=sma.index,\n",
    "                         y=sma['close'],\n",
    "                         name='SMA',\n",
    "                         line_color='#FECB52'\n",
    "                        ))\n",
    "\n",
    "\n",
    "\n",
    "# buy signals\n",
    "fig.add_trace(go.Scatter(x=buys.index,\n",
    "                         y=(1-k) * buys.price,\n",
    "                         name='Buys',\n",
    "                         mode='markers',\n",
    "                         marker=dict(\n",
    "                             color='#00CC96',\n",
    "                             size=10,\n",
    "                             symbol='triangle-up'\n",
    "                             )\n",
    "                         ))\n",
    "# sell signals\n",
    "fig.add_trace(go.Scatter(x=sells.index,\n",
    "                         y=(1+k)*sells.price,\n",
    "                         name='Sells',\n",
    "                         mode='markers',\n",
    "                         marker=dict(\n",
    "                             color='#EF553B',\n",
    "                             size=10,\n",
    "                             symbol='triangle-down'\n",
    "                             )\n",
    "                         ))\n",
    "\n",
    "fig.update_layout(\n",
    "    autosize=False,\n",
    "    width=960,\n",
    "    height=700,)\n",
    "\n",
    "# Add range slider\n",
    "fig.update_layout(\n",
    "    xaxis=dict(\n",
    "        rangeslider=dict(\n",
    "            visible=True\n",
    "        ),\n",
    "        type=\"date\"\n",
    "    ),\n",
    "    yaxis=dict(\n",
    "       autorange = True,\n",
    "       fixedrange= False\n",
    "   )\n",
    ")\n",
    "\n",
    "\n",
    "# fig.show()\n",
    "figu = go.FigureWidget(data=fig, layout=layout)\n",
    "\n",
    "def zoom(layout, xrange):\n",
    "    in_view = data.loc[figu.layout.xaxis.range[0]:figu.layout.xaxis.range[1]]\n",
    "    figu.layout.yaxis.range = [in_view.high.min() - 10, in_view.high.max() + 10]\n",
    "\n",
    "figu.layout.on_change(zoom, 'xaxis.range')\n",
    "figu"
   ]
  },
  {
   "cell_type": "code",
   "execution_count": 46,
   "metadata": {},
   "outputs": [],
   "source": []
  },
  {
   "cell_type": "code",
   "execution_count": 22,
   "metadata": {
    "pycharm": {
     "name": "#%%\n"
    }
   },
   "outputs": [
    {
     "data": {
      "text/html": [
       "<div>\n",
       "<style scoped>\n",
       "    .dataframe tbody tr th:only-of-type {\n",
       "        vertical-align: middle;\n",
       "    }\n",
       "\n",
       "    .dataframe tbody tr th {\n",
       "        vertical-align: top;\n",
       "    }\n",
       "\n",
       "    .dataframe thead th {\n",
       "        text-align: right;\n",
       "    }\n",
       "</style>\n",
       "<table border=\"1\" class=\"dataframe\">\n",
       "  <thead>\n",
       "    <tr style=\"text-align: right;\">\n",
       "      <th></th>\n",
       "      <th>pnl</th>\n",
       "      <th>fee</th>\n",
       "      <th>price</th>\n",
       "      <th>quantity</th>\n",
       "      <th>side</th>\n",
       "      <th>type</th>\n",
       "      <th>timestamp</th>\n",
       "    </tr>\n",
       "  </thead>\n",
       "  <tbody>\n",
       "    <tr>\n",
       "      <th>2014-10-15</th>\n",
       "      <td>0.0</td>\n",
       "      <td>100.119567</td>\n",
       "      <td>401.35</td>\n",
       "      <td>249.457</td>\n",
       "      <td>1</td>\n",
       "      <td>MARKET</td>\n",
       "      <td>1413331200000000000</td>\n",
       "    </tr>\n",
       "    <tr>\n",
       "      <th>2014-11-10</th>\n",
       "      <td>0.0</td>\n",
       "      <td>88.895930</td>\n",
       "      <td>362.62</td>\n",
       "      <td>245.149</td>\n",
       "      <td>1</td>\n",
       "      <td>MARKET</td>\n",
       "      <td>1415577600000000000</td>\n",
       "    </tr>\n",
       "    <tr>\n",
       "      <th>2014-11-24</th>\n",
       "      <td>0.0</td>\n",
       "      <td>87.564133</td>\n",
       "      <td>367.31</td>\n",
       "      <td>238.393</td>\n",
       "      <td>1</td>\n",
       "      <td>MARKET</td>\n",
       "      <td>1416787200000000000</td>\n",
       "    </tr>\n",
       "    <tr>\n",
       "      <th>2015-01-27</th>\n",
       "      <td>0.0</td>\n",
       "      <td>87.860374</td>\n",
       "      <td>273.44</td>\n",
       "      <td>321.315</td>\n",
       "      <td>1</td>\n",
       "      <td>MARKET</td>\n",
       "      <td>1422316800000000000</td>\n",
       "    </tr>\n",
       "    <tr>\n",
       "      <th>2015-02-14</th>\n",
       "      <td>0.0</td>\n",
       "      <td>74.855450</td>\n",
       "      <td>235.76</td>\n",
       "      <td>317.507</td>\n",
       "      <td>1</td>\n",
       "      <td>MARKET</td>\n",
       "      <td>1423872000000000000</td>\n",
       "    </tr>\n",
       "    <tr>\n",
       "      <th>...</th>\n",
       "      <td>...</td>\n",
       "      <td>...</td>\n",
       "      <td>...</td>\n",
       "      <td>...</td>\n",
       "      <td>...</td>\n",
       "      <td>...</td>\n",
       "      <td>...</td>\n",
       "    </tr>\n",
       "    <tr>\n",
       "      <th>2022-03-10</th>\n",
       "      <td>0.0</td>\n",
       "      <td>9008.491072</td>\n",
       "      <td>42016.04</td>\n",
       "      <td>214.406</td>\n",
       "      <td>1</td>\n",
       "      <td>MARKET</td>\n",
       "      <td>1646870400000000000</td>\n",
       "    </tr>\n",
       "    <tr>\n",
       "      <th>2022-03-17</th>\n",
       "      <td>0.0</td>\n",
       "      <td>8430.939674</td>\n",
       "      <td>41181.98</td>\n",
       "      <td>204.724</td>\n",
       "      <td>1</td>\n",
       "      <td>MARKET</td>\n",
       "      <td>1647475200000000000</td>\n",
       "    </tr>\n",
       "    <tr>\n",
       "      <th>2022-05-31</th>\n",
       "      <td>0.0</td>\n",
       "      <td>8630.563288</td>\n",
       "      <td>31755.58</td>\n",
       "      <td>271.781</td>\n",
       "      <td>1</td>\n",
       "      <td>MARKET</td>\n",
       "      <td>1653955200000000000</td>\n",
       "    </tr>\n",
       "    <tr>\n",
       "      <th>2022-06-03</th>\n",
       "      <td>0.0</td>\n",
       "      <td>8073.075059</td>\n",
       "      <td>30498.27</td>\n",
       "      <td>264.706</td>\n",
       "      <td>1</td>\n",
       "      <td>MARKET</td>\n",
       "      <td>1654214400000000000</td>\n",
       "    </tr>\n",
       "    <tr>\n",
       "      <th>2022-06-06</th>\n",
       "      <td>0.0</td>\n",
       "      <td>7840.227974</td>\n",
       "      <td>29940.19</td>\n",
       "      <td>261.863</td>\n",
       "      <td>1</td>\n",
       "      <td>MARKET</td>\n",
       "      <td>1654473600000000000</td>\n",
       "    </tr>\n",
       "  </tbody>\n",
       "</table>\n",
       "<p>109 rows × 7 columns</p>\n",
       "</div>"
      ],
      "text/plain": [
       "            pnl          fee     price quantity side    type  \\\n",
       "2014-10-15  0.0   100.119567    401.35  249.457    1  MARKET   \n",
       "2014-11-10  0.0    88.895930    362.62  245.149    1  MARKET   \n",
       "2014-11-24  0.0    87.564133    367.31  238.393    1  MARKET   \n",
       "2015-01-27  0.0    87.860374    273.44  321.315    1  MARKET   \n",
       "2015-02-14  0.0    74.855450    235.76  317.507    1  MARKET   \n",
       "...         ...          ...       ...      ...  ...     ...   \n",
       "2022-03-10  0.0  9008.491072  42016.04  214.406    1  MARKET   \n",
       "2022-03-17  0.0  8430.939674  41181.98  204.724    1  MARKET   \n",
       "2022-05-31  0.0  8630.563288  31755.58  271.781    1  MARKET   \n",
       "2022-06-03  0.0  8073.075059  30498.27  264.706    1  MARKET   \n",
       "2022-06-06  0.0  7840.227974  29940.19  261.863    1  MARKET   \n",
       "\n",
       "                      timestamp  \n",
       "2014-10-15  1413331200000000000  \n",
       "2014-11-10  1415577600000000000  \n",
       "2014-11-24  1416787200000000000  \n",
       "2015-01-27  1422316800000000000  \n",
       "2015-02-14  1423872000000000000  \n",
       "...                         ...  \n",
       "2022-03-10  1646870400000000000  \n",
       "2022-03-17  1647475200000000000  \n",
       "2022-05-31  1653955200000000000  \n",
       "2022-06-03  1654214400000000000  \n",
       "2022-06-06  1654473600000000000  \n",
       "\n",
       "[109 rows x 7 columns]"
      ]
     },
     "execution_count": 22,
     "metadata": {},
     "output_type": "execute_result"
    }
   ],
   "source": [
    "buys"
   ]
  },
  {
   "cell_type": "code",
   "execution_count": 23,
   "metadata": {},
   "outputs": [],
   "source": [
    "fin_data = data.copy()"
   ]
  },
  {
   "cell_type": "code",
   "execution_count": 24,
   "metadata": {
    "pycharm": {
     "name": "#%%\n"
    }
   },
   "outputs": [
    {
     "data": {
      "application/vnd.jupyter.widget-view+json": {
       "model_id": "ba1e30763b2a400e9953bc16f7d6f942",
       "version_major": 2,
       "version_minor": 0
      },
      "text/plain": [
       "FigureWidget({\n",
       "    'data': [{'type': 'scatter',\n",
       "              'uid': '67d73ad6-145e-4e8f-8927-d1a1fe24f49e',\n",
       " …"
      ]
     },
     "metadata": {},
     "output_type": "display_data"
    }
   ],
   "source": [
    "import plotly.graph_objs as go\n",
    "\n",
    "from datetime import datetime\n",
    "import pandas_datareader.data as web\n",
    "\n",
    "df = fin_data.copy()\n",
    "\n",
    "# Make sure dates are in ascending order\n",
    "# We need this for slicing in the callback below\n",
    "df.sort_index(ascending=True, inplace=True)\n",
    "\n",
    "trace = go.Scatter(x=list(df.index),\n",
    "                   y=list(df.high))\n",
    "\n",
    "data = [trace]\n",
    "layout = dict(\n",
    "    title='Time series with range slider and selectors',\n",
    "    xaxis=dict(\n",
    "        rangeselector=dict(\n",
    "            buttons=list([\n",
    "                dict(count=1,\n",
    "                     label='1m',\n",
    "                     step='month',\n",
    "                     stepmode='backward'),\n",
    "                dict(count=6,\n",
    "                     label='6m',\n",
    "                     step='month',\n",
    "                     stepmode='backward'),\n",
    "                dict(count=1,\n",
    "                    label='YTD',\n",
    "                    step='year',\n",
    "                    stepmode='todate'),\n",
    "                dict(count=1,\n",
    "                    label='1y',\n",
    "                    step='year',\n",
    "                    stepmode='backward'),\n",
    "                dict(step='all')\n",
    "            ])\n",
    "        ),\n",
    "        rangeslider=dict(\n",
    "            visible = True\n",
    "        ),\n",
    "        type='date'\n",
    "    )\n",
    ")\n",
    "\n",
    "fig = go.FigureWidget(data=data, layout=layout)\n",
    "fig"
   ]
  },
  {
   "cell_type": "code",
   "execution_count": 25,
   "metadata": {},
   "outputs": [],
   "source": [
    "def zoom(layout, xrange):\n",
    "    in_view = df.loc[fig.layout.xaxis.range[0]:fig.layout.xaxis.range[1]]\n",
    "    fig.layout.yaxis.range = [in_view.high.min() - 10, in_view.high.max() + 10]\n",
    "\n",
    "fig.layout.on_change(zoom, 'xaxis.range')"
   ]
  },
  {
   "cell_type": "code",
   "execution_count": null,
   "metadata": {},
   "outputs": [],
   "source": []
  }
 ],
 "metadata": {
  "hide_input": false,
  "kernelspec": {
   "display_name": "Python 3 (ipykernel)",
   "language": "python",
   "name": "python3"
  },
  "language_info": {
   "codemirror_mode": {
    "name": "ipython",
    "version": 3
   },
   "file_extension": ".py",
   "mimetype": "text/x-python",
   "name": "python",
   "nbconvert_exporter": "python",
   "pygments_lexer": "ipython3",
   "version": "3.9.13"
  },
  "toc": {
   "base_numbering": 1,
   "nav_menu": {},
   "number_sections": false,
   "sideBar": true,
   "skip_h1_title": false,
   "title_cell": "Table of Contents",
   "title_sidebar": "Contents",
   "toc_cell": false,
   "toc_position": {},
   "toc_section_display": true,
   "toc_window_display": true
  }
 },
 "nbformat": 4,
 "nbformat_minor": 4
}