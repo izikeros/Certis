{
 "cells": [
  {
   "cell_type": "markdown",
   "id": "7b3175b6",
   "metadata": {
    "tags": []
   },
   "source": [
    "# Certis Quickstart"
   ]
  },
  {
   "cell_type": "markdown",
   "id": "46428f42",
   "metadata": {},
   "source": [
    "## This notebook is a demonstration of:\n",
    "- supported order types (list all of them)\n",
    "- defining basic strategy (Simple Moving Average - SMA)\n",
    "- downloading financial timeseries from yahoo finance\n",
    "- input data format\n",
    "- initialization of ExchangeInfo object (parameters that characterize given exchange,\n",
    "    e.g. transaction fees)\n",
    "- initialization and run of engine (combined"
   ]
  },
  {
   "cell_type": "code",
   "execution_count": 1,
   "id": "0575293d",
   "metadata": {},
   "outputs": [],
   "source": [
    "# Add parent directory to path\n",
    "import sys\n",
    "from typing import List\n",
    "\n",
    "sys.path.insert(0, \"..\")"
   ]
  },
  {
   "cell_type": "code",
   "execution_count": 4,
   "id": "ee9ad5a2",
   "metadata": {},
   "outputs": [],
   "source": [
    "import certis"
   ]
  },
  {
   "cell_type": "markdown",
   "id": "7223db1e",
   "metadata": {
    "tags": []
   },
   "source": [
    "# Supported Order Types\n",
    "- LIMIT\n",
    "- MARKET\n",
    "- STOP_MARKET\n",
    "- STOP_LOSS_MARKET\n",
    "- TAKE_PROFIT_MARKET\n",
    "\n",
    "<a href=\"https://www.investor.gov/introduction-investing/investing-basics/how-stock-markets-work/types-orders\"> order type docs for beginners"
   ]
  },
  {
   "cell_type": "code",
   "execution_count": 6,
   "id": "817f4a83",
   "metadata": {},
   "outputs": [
    {
     "name": "stdout",
     "output_type": "stream",
     "text": [
      "['MARKET', 'LIMIT', 'STOP_MARKET', 'STOP_LOSS_MARKET', 'TAKE_PROFIT_MARKET']\n"
     ]
    }
   ],
   "source": [
    "print(certis.OrderType.ORDERS)"
   ]
  },
  {
   "cell_type": "markdown",
   "id": "acc51bbd",
   "metadata": {},
   "source": [
    "# Supported Order Sides\n",
    "LONG: betting for upside\n",
    "SHORT: betting for downside"
   ]
  },
  {
   "cell_type": "code",
   "execution_count": 7,
   "id": "f4955e3f",
   "metadata": {},
   "outputs": [
    {
     "name": "stdout",
     "output_type": "stream",
     "text": [
      "certis.OrderSide.LONG: 1\n",
      "certis.OrderSide.SHORT: -1\n"
     ]
    }
   ],
   "source": [
    "print(\"certis.OrderSide.LONG:\", certis.OrderSide.LONG)\n",
    "print(\"certis.OrderSide.SHORT:\", certis.OrderSide.SHORT)"
   ]
  },
  {
   "cell_type": "markdown",
   "id": "4b0d2e38",
   "metadata": {},
   "source": [
    "# Writing Trading Strategy With Certis\n",
    "- function certis.Strategy.execute() -> executes order with given data and account info\n",
    "- function certis.Strategy.calculate() -> calculates indicators, etc. with given raw data\n",
    "\n",
    "## MA Cross Strategy\n",
    "- In this Tutorial, We will write a simple strategy called \"MA Cross Strategy\"\n",
    "- BUY WHEN CLOSE > MA(CLOSE, 5)\n",
    "- SELL WHEN CLOSE < MA(CLOSE, 5)"
   ]
  },
  {
   "cell_type": "code",
   "execution_count": 8,
   "id": "31a5687e",
   "metadata": {},
   "outputs": [],
   "source": [
    "class MyFirstStrategy(certis.Strategy):\n",
    "    def __init__(self, config):\n",
    "        # config: Dict[str, Any]: config for this strategy\n",
    "        # name: str: name for this strategy\n",
    "        super().__init__(config, \"MyFirstStrategy\")\n",
    "        self.ma_period = config[\"MA_PERIOD\"]\n",
    "\n",
    "    def calculate(self, data):\n",
    "        # data: pd.DataFrame contains [open, high, low, close, volume, timestamp]\n",
    "        # calculations here\n",
    "        data[\"MA\"] = data[\"close\"].rolling(self.ma_period).mean()\n",
    "        return data\n",
    "\n",
    "    def execute(self, state_dict) -> List[certis.core.Action]:\n",
    "        actions = []\n",
    "\n",
    "        \"\"\"\n",
    "        state_dict example:\n",
    "            {\n",
    "                'has_position': 0,\n",
    "                 'margin': 10000,\n",
    "                 'portfolio_value': 10000.0,\n",
    "                 'position': {\n",
    "                     'avg_price': 0,\n",
    "                     'side': 0,\n",
    "                     'size': 0,\n",
    "                     'unrealized_pnl': 0.0\n",
    "                 },\n",
    "                 'timestamp': 1579076100000000000\n",
    "            }\n",
    "        \"\"\"\n",
    "\n",
    "        has_position = state_dict[\"account_info\"][\"has_position\"]\n",
    "        portfolio_value = state_dict[\"account_info\"][\"portfolio_value\"]\n",
    "        position_size = state_dict[\"account_info\"][\"position\"][\"size\"]\n",
    "        data = state_dict[\"data\"]\n",
    "\n",
    "        if not state_dict[\"account_info\"][\"has_position\"]:\n",
    "            if data[\"close\"] > data[\"MA\"]:  # if above ma\n",
    "                order = certis.Order(\n",
    "                    order_type=certis.OrderType.MARKET,\n",
    "                    order_quantity=portfolio_value / data[\"close\"],  # full bet!,\n",
    "                    order_side=certis.OrderSide.LONG,\n",
    "                    order_price=None,  # MARKET ORDER\n",
    "                    reduce_only=False,\n",
    "                )\n",
    "                actions.append(order)\n",
    "\n",
    "        else:\n",
    "            if data[\"close\"] < data[\"MA\"]:\n",
    "                order = certis.Order(\n",
    "                    order_type=certis.OrderType.MARKET,\n",
    "                    order_quantity=position_size,  # full bet!,\n",
    "                    order_side=certis.OrderSide.SHORT,\n",
    "                    order_price=None,  # MARKET ORDER\n",
    "                    reduce_only=True,\n",
    "                )\n",
    "                actions.append(order)\n",
    "\n",
    "        return actions"
   ]
  },
  {
   "cell_type": "markdown",
   "id": "792ef15b",
   "metadata": {},
   "source": [
    "# Market Info Object\n",
    "- essential market info for the backtesting\n",
    "- maker fee: fee for limit orders\n",
    "- taker fee: fee for market orders\n",
    "- slippage: slippage applied for market orders\n",
    "- tick_size: tick size\n",
    "- minimum_order_size: minimum order size"
   ]
  },
  {
   "cell_type": "code",
   "execution_count": 9,
   "id": "3ddb5638",
   "metadata": {},
   "outputs": [],
   "source": [
    "market_info = certis.ExchangeInfo(\n",
    "    maker_fee=0.001,\n",
    "    taker_fee=0.001,\n",
    "    slippage=0.001,\n",
    "    minimum_order_size=0.001,\n",
    "    tick_size=0.01,\n",
    ")"
   ]
  },
  {
   "cell_type": "markdown",
   "id": "3c00ee7f",
   "metadata": {},
   "source": [
    "# Load data\n",
    "Certis Supports pandas DataFrame with `[timestamp, open, high, low, close, volume]` with datetime indexes"
   ]
  },
  {
   "cell_type": "code",
   "execution_count": 10,
   "id": "e43e80b6",
   "metadata": {},
   "outputs": [],
   "source": [
    "from yfinance import Ticker\n",
    "\n",
    "data = Ticker(\"BTC-USD\").history(period=\"max\")\n",
    "data = data[data.columns[:5]]\n",
    "data.columns = [\"open\", \"high\", \"low\", \"close\", \"volume\"]\n",
    "data[\"timestamp\"] = data.index.astype(int)\n",
    "fin_data = data.copy()"
   ]
  },
  {
   "cell_type": "markdown",
   "id": "56549972",
   "metadata": {},
   "source": [
    "# Initialize Engine\n",
    "### to initialize certis backtesting engine, you need following components:\n",
    "- data: pandas DataFrame\n",
    "- initial margin: float\n",
    "- market info: ExchangeInfo Object\n",
    "- strategy: Strategy Class\n",
    "- strategy config: strategy config"
   ]
  },
  {
   "cell_type": "code",
   "execution_count": 11,
   "id": "b15f0f4b",
   "metadata": {},
   "outputs": [],
   "source": [
    "MA_WINDOW = 7\n",
    "initial_margin = 100000\n",
    "strategy_config = {\"MA_PERIOD\": MA_WINDOW}\n",
    "\n",
    "engine = certis.Engine(\n",
    "    fin_data, initial_margin, market_info, MyFirstStrategy, strategy_config\n",
    ")"
   ]
  },
  {
   "cell_type": "code",
   "execution_count": 12,
   "id": "ad79e48f",
   "metadata": {},
   "outputs": [
    {
     "name": "stderr",
     "output_type": "stream",
     "text": [
      "100%|████████████████████████████████████████████████████████████████████████████████████████████████████████████████████████████████████████████████████████████████████████████████████████████████████████████| 2838/2838 [00:00<00:00, 61407.29it/s]\n"
     ]
    },
    {
     "data": {
      "text/plain": [
       "<certis.base.Logger at 0x10c536dc0>"
      ]
     },
     "execution_count": 12,
     "metadata": {},
     "output_type": "execute_result"
    }
   ],
   "source": [
    "engine.run()"
   ]
  },
  {
   "cell_type": "markdown",
   "id": "ea2cb86b",
   "metadata": {},
   "source": [
    "# Analyzing Results\n",
    "The data for analysis can be obtained from the logger.\n",
    "- `engine.logger.account_infos`:  account info for timestamp-by-timestamp\n",
    "- `engine.logger.transactions`:   order fill (transactions)\n",
    "- `engine.logger.unfilled_order`: unfilled order for timestamp-by-timestamp"
   ]
  },
  {
   "cell_type": "code",
   "execution_count": 13,
   "id": "89f15239",
   "metadata": {},
   "outputs": [],
   "source": [
    "import pandas as pd\n",
    "import matplotlib.pyplot as plt"
   ]
  },
  {
   "cell_type": "code",
   "execution_count": 14,
   "id": "950c1293",
   "metadata": {},
   "outputs": [],
   "source": [
    "account_info_df = pd.DataFrame(engine.logger.account_infos)\n",
    "account_info_df.index = pd.to_datetime(account_info_df[\"timestamp\"])"
   ]
  },
  {
   "cell_type": "markdown",
   "id": "0b209e25",
   "metadata": {},
   "source": [
    "## Account info from the logger in form of Data Frame"
   ]
  },
  {
   "cell_type": "code",
   "execution_count": 15,
   "id": "96722459",
   "metadata": {},
   "outputs": [
    {
     "data": {
      "text/html": [
       "<div>\n",
       "<style scoped>\n",
       "    .dataframe tbody tr th:only-of-type {\n",
       "        vertical-align: middle;\n",
       "    }\n",
       "\n",
       "    .dataframe tbody tr th {\n",
       "        vertical-align: top;\n",
       "    }\n",
       "\n",
       "    .dataframe thead th {\n",
       "        text-align: right;\n",
       "    }\n",
       "</style>\n",
       "<table border=\"1\" class=\"dataframe\">\n",
       "  <thead>\n",
       "    <tr style=\"text-align: right;\">\n",
       "      <th></th>\n",
       "      <th>margin</th>\n",
       "      <th>portfolio_value</th>\n",
       "      <th>position</th>\n",
       "      <th>has_position</th>\n",
       "      <th>timestamp</th>\n",
       "    </tr>\n",
       "    <tr>\n",
       "      <th>timestamp</th>\n",
       "      <th></th>\n",
       "      <th></th>\n",
       "      <th></th>\n",
       "      <th></th>\n",
       "      <th></th>\n",
       "    </tr>\n",
       "  </thead>\n",
       "  <tbody>\n",
       "    <tr>\n",
       "      <th>2014-09-24</th>\n",
       "      <td>100000.000000</td>\n",
       "      <td>100000.000000</td>\n",
       "      <td>{'size': 0, 'side': 0, 'avg_price': 0, 'unreal...</td>\n",
       "      <td>0</td>\n",
       "      <td>1.411517e+18</td>\n",
       "    </tr>\n",
       "    <tr>\n",
       "      <th>2014-09-25</th>\n",
       "      <td>99899.911084</td>\n",
       "      <td>96922.573678</td>\n",
       "      <td>{'size': 229.467, 'side': 1.0, 'avg_price': 43...</td>\n",
       "      <td>1</td>\n",
       "      <td>1.411603e+18</td>\n",
       "    </tr>\n",
       "    <tr>\n",
       "      <th>2014-09-26</th>\n",
       "      <td>99899.911084</td>\n",
       "      <td>94253.647258</td>\n",
       "      <td>{'size': 229.467, 'side': 1.0, 'avg_price': 43...</td>\n",
       "      <td>1</td>\n",
       "      <td>1.411690e+18</td>\n",
       "    </tr>\n",
       "  </tbody>\n",
       "</table>\n",
       "</div>"
      ],
      "text/plain": [
       "                   margin  portfolio_value  \\\n",
       "timestamp                                    \n",
       "2014-09-24  100000.000000    100000.000000   \n",
       "2014-09-25   99899.911084     96922.573678   \n",
       "2014-09-26   99899.911084     94253.647258   \n",
       "\n",
       "                                                     position  has_position  \\\n",
       "timestamp                                                                     \n",
       "2014-09-24  {'size': 0, 'side': 0, 'avg_price': 0, 'unreal...             0   \n",
       "2014-09-25  {'size': 229.467, 'side': 1.0, 'avg_price': 43...             1   \n",
       "2014-09-26  {'size': 229.467, 'side': 1.0, 'avg_price': 43...             1   \n",
       "\n",
       "               timestamp  \n",
       "timestamp                 \n",
       "2014-09-24  1.411517e+18  \n",
       "2014-09-25  1.411603e+18  \n",
       "2014-09-26  1.411690e+18  "
      ]
     },
     "execution_count": 15,
     "metadata": {},
     "output_type": "execute_result"
    }
   ],
   "source": [
    "account_info_df.head(3)"
   ]
  },
  {
   "cell_type": "code",
   "execution_count": 16,
   "id": "800334c7",
   "metadata": {},
   "outputs": [
    {
     "data": {
      "text/plain": [
       "{'size': 0, 'side': 0, 'avg_price': 0, 'unrealized_pnl': 0.0}"
      ]
     },
     "execution_count": 16,
     "metadata": {},
     "output_type": "execute_result"
    }
   ],
   "source": [
    "account_info_df.iloc[5].position"
   ]
  },
  {
   "cell_type": "markdown",
   "id": "b9be9638",
   "metadata": {},
   "source": [
    "## Plot portfolio value with matplotlib\n",
    "On the plot below there is:\n",
    "- portfolio value in given point of time relative to the initial portfolio value\n",
    "- BTC value in given point of time relative to the initial BTC value"
   ]
  },
  {
   "cell_type": "code",
   "execution_count": 18,
   "id": "bdaa7571",
   "metadata": {},
   "outputs": [
    {
     "data": {
      "image/png": "[encoded data removed]",
      "text/plain": [
       "<Figure size 1440x720 with 1 Axes>"
      ]
     },
     "metadata": {
      "needs_background": "light"
     },
     "output_type": "display_data"
    }
   ],
   "source": [
    "(account_info_df[\"portfolio_value\"] / initial_margin).plot(\n",
    "    label=\"equity\", figsize=(20, 10)\n",
    ")\n",
    "ax = (fin_data[\"close\"] / fin_data[\"close\"][0]).plot(label=\"BTC-USD\")\n",
    "plt.legend()\n",
    "_ = ax.set_title(\"Portfolio value compared to Bitcoin Price\")\n",
    "_ = ax.set_ylabel(\"relative value change [x]\")"
   ]
  },
  {
   "cell_type": "code",
   "execution_count": 19,
   "id": "10b620fa",
   "metadata": {},
   "outputs": [
    {
     "data": {
      "text/plain": [
       "[{'timestamp': 1411516800000000000,\n",
       "  'realized': {'pnl': 0, 'fee': 100.08891606},\n",
       "  'order': {'price': 436.18,\n",
       "   'quantity': 229.467,\n",
       "   'side': 1,\n",
       "   'type': 'MARKET'}},\n",
       " {'timestamp': 1411776000000000000,\n",
       "  'realized': {'pnl': -7579.295009999994, 'fee': 92.50962105000002},\n",
       "  'order': {'price': 403.15000000000003,\n",
       "   'quantity': 229.467,\n",
       "   'side': -1,\n",
       "   'type': 'MARKET'}}]"
      ]
     },
     "execution_count": 19,
     "metadata": {},
     "output_type": "execute_result"
    }
   ],
   "source": [
    "engine.logger.transactions[:2]"
   ]
  },
  {
   "cell_type": "code",
   "execution_count": 20,
   "id": "01571f58",
   "metadata": {},
   "outputs": [
    {
     "data": {
      "text/html": [
       "<div>\n",
       "<style scoped>\n",
       "    .dataframe tbody tr th:only-of-type {\n",
       "        vertical-align: middle;\n",
       "    }\n",
       "\n",
       "    .dataframe tbody tr th {\n",
       "        vertical-align: top;\n",
       "    }\n",
       "\n",
       "    .dataframe thead th {\n",
       "        text-align: right;\n",
       "    }\n",
       "</style>\n",
       "<table border=\"1\" class=\"dataframe\">\n",
       "  <thead>\n",
       "    <tr style=\"text-align: right;\">\n",
       "      <th></th>\n",
       "      <th>timestamp</th>\n",
       "      <th>realized</th>\n",
       "      <th>order</th>\n",
       "    </tr>\n",
       "    <tr>\n",
       "      <th>timestamp</th>\n",
       "      <th></th>\n",
       "      <th></th>\n",
       "      <th></th>\n",
       "    </tr>\n",
       "  </thead>\n",
       "  <tbody>\n",
       "    <tr>\n",
       "      <th>2022-04-01</th>\n",
       "      <td>1648771200000000000</td>\n",
       "      <td>{'pnl': 4.326619999999996, 'fee': 0.0455086}</td>\n",
       "      <td>{'price': 45508.6, 'quantity': 0.001, 'side': ...</td>\n",
       "    </tr>\n",
       "    <tr>\n",
       "      <th>2020-09-15</th>\n",
       "      <td>1600128000000000000</td>\n",
       "      <td>{'pnl': 0, 'fee': 5330.4055484400005}</td>\n",
       "      <td>{'price': 10688.43, 'quantity': 498.708, 'side...</td>\n",
       "    </tr>\n",
       "    <tr>\n",
       "      <th>2021-10-26</th>\n",
       "      <td>1635206400000000000</td>\n",
       "      <td>{'pnl': 0, 'fee': 17436.07989597}</td>\n",
       "      <td>{'price': 63095.79, 'quantity': 276.343, 'side...</td>\n",
       "    </tr>\n",
       "    <tr>\n",
       "      <th>2021-06-28</th>\n",
       "      <td>1624838400000000000</td>\n",
       "      <td>{'pnl': 0, 'fee': 13674.598951200003}</td>\n",
       "      <td>{'price': 34713.8, 'quantity': 393.92400000000...</td>\n",
       "    </tr>\n",
       "    <tr>\n",
       "      <th>2018-02-09</th>\n",
       "      <td>1518134400000000000</td>\n",
       "      <td>{'pnl': 0, 'fee': 2315.3091985300002}</td>\n",
       "      <td>{'price': 8280.11, 'quantity': 279.623, 'side'...</td>\n",
       "    </tr>\n",
       "  </tbody>\n",
       "</table>\n",
       "</div>"
      ],
      "text/plain": [
       "                      timestamp                                      realized  \\\n",
       "timestamp                                                                       \n",
       "2022-04-01  1648771200000000000  {'pnl': 4.326619999999996, 'fee': 0.0455086}   \n",
       "2020-09-15  1600128000000000000         {'pnl': 0, 'fee': 5330.4055484400005}   \n",
       "2021-10-26  1635206400000000000             {'pnl': 0, 'fee': 17436.07989597}   \n",
       "2021-06-28  1624838400000000000         {'pnl': 0, 'fee': 13674.598951200003}   \n",
       "2018-02-09  1518134400000000000         {'pnl': 0, 'fee': 2315.3091985300002}   \n",
       "\n",
       "                                                        order  \n",
       "timestamp                                                      \n",
       "2022-04-01  {'price': 45508.6, 'quantity': 0.001, 'side': ...  \n",
       "2020-09-15  {'price': 10688.43, 'quantity': 498.708, 'side...  \n",
       "2021-10-26  {'price': 63095.79, 'quantity': 276.343, 'side...  \n",
       "2021-06-28  {'price': 34713.8, 'quantity': 393.92400000000...  \n",
       "2018-02-09  {'price': 8280.11, 'quantity': 279.623, 'side'...  "
      ]
     },
     "execution_count": 20,
     "metadata": {},
     "output_type": "execute_result"
    }
   ],
   "source": [
    "transactions_df = pd.DataFrame(engine.logger.transactions)\n",
    "transactions_df.index = pd.to_datetime(transactions_df[\"timestamp\"])\n",
    "transactions_df.sample(5)"
   ]
  },
  {
   "cell_type": "code",
   "execution_count": 21,
   "id": "ce6173f2",
   "metadata": {},
   "outputs": [
    {
     "data": {
      "text/html": [
       "<div>\n",
       "<style scoped>\n",
       "    .dataframe tbody tr th:only-of-type {\n",
       "        vertical-align: middle;\n",
       "    }\n",
       "\n",
       "    .dataframe tbody tr th {\n",
       "        vertical-align: top;\n",
       "    }\n",
       "\n",
       "    .dataframe thead th {\n",
       "        text-align: right;\n",
       "    }\n",
       "</style>\n",
       "<table border=\"1\" class=\"dataframe\">\n",
       "  <thead>\n",
       "    <tr style=\"text-align: right;\">\n",
       "      <th></th>\n",
       "      <th>pnl</th>\n",
       "      <th>fee</th>\n",
       "      <th>price</th>\n",
       "      <th>quantity</th>\n",
       "      <th>side</th>\n",
       "      <th>type</th>\n",
       "      <th>timestamp</th>\n",
       "    </tr>\n",
       "  </thead>\n",
       "  <tbody>\n",
       "    <tr>\n",
       "      <th>2014-09-24</th>\n",
       "      <td>0.00000</td>\n",
       "      <td>100.088916</td>\n",
       "      <td>436.18</td>\n",
       "      <td>229.467</td>\n",
       "      <td>1</td>\n",
       "      <td>MARKET</td>\n",
       "      <td>1411516800000000000</td>\n",
       "    </tr>\n",
       "    <tr>\n",
       "      <th>2014-09-27</th>\n",
       "      <td>-7579.29501</td>\n",
       "      <td>92.509621</td>\n",
       "      <td>403.15</td>\n",
       "      <td>229.467</td>\n",
       "      <td>-1</td>\n",
       "      <td>MARKET</td>\n",
       "      <td>1411776000000000000</td>\n",
       "    </tr>\n",
       "    <tr>\n",
       "      <th>2014-10-09</th>\n",
       "      <td>0.00000</td>\n",
       "      <td>92.269620</td>\n",
       "      <td>353.1</td>\n",
       "      <td>261.313</td>\n",
       "      <td>1</td>\n",
       "      <td>MARKET</td>\n",
       "      <td>1412812800000000000</td>\n",
       "    </tr>\n",
       "    <tr>\n",
       "      <th>2014-10-18</th>\n",
       "      <td>7967.40288</td>\n",
       "      <td>100.236670</td>\n",
       "      <td>383.59</td>\n",
       "      <td>261.312</td>\n",
       "      <td>-1</td>\n",
       "      <td>MARKET</td>\n",
       "      <td>1413590400000000000</td>\n",
       "    </tr>\n",
       "    <tr>\n",
       "      <th>2014-10-19</th>\n",
       "      <td>0.00000</td>\n",
       "      <td>100.053446</td>\n",
       "      <td>391.64</td>\n",
       "      <td>255.473</td>\n",
       "      <td>1</td>\n",
       "      <td>MARKET</td>\n",
       "      <td>1413676800000000000</td>\n",
       "    </tr>\n",
       "    <tr>\n",
       "      <th>...</th>\n",
       "      <td>...</td>\n",
       "      <td>...</td>\n",
       "      <td>...</td>\n",
       "      <td>...</td>\n",
       "      <td>...</td>\n",
       "      <td>...</td>\n",
       "      <td>...</td>\n",
       "    </tr>\n",
       "    <tr>\n",
       "      <th>2022-06-10</th>\n",
       "      <td>-1.32290</td>\n",
       "      <td>0.030080</td>\n",
       "      <td>30080.21</td>\n",
       "      <td>0.001</td>\n",
       "      <td>-1</td>\n",
       "      <td>MARKET</td>\n",
       "      <td>1654819200000000000</td>\n",
       "    </tr>\n",
       "    <tr>\n",
       "      <th>2022-06-22</th>\n",
       "      <td>0.00000</td>\n",
       "      <td>6051.368470</td>\n",
       "      <td>20740.13</td>\n",
       "      <td>291.771</td>\n",
       "      <td>1</td>\n",
       "      <td>MARKET</td>\n",
       "      <td>1655856000000000000</td>\n",
       "    </tr>\n",
       "    <tr>\n",
       "      <th>2022-06-23</th>\n",
       "      <td>-225687.78621</td>\n",
       "      <td>5825.680684</td>\n",
       "      <td>19966.62</td>\n",
       "      <td>291.771</td>\n",
       "      <td>-1</td>\n",
       "      <td>MARKET</td>\n",
       "      <td>1655942400000000000</td>\n",
       "    </tr>\n",
       "    <tr>\n",
       "      <th>2022-06-24</th>\n",
       "      <td>0.00000</td>\n",
       "      <td>5810.639632</td>\n",
       "      <td>21105.73</td>\n",
       "      <td>275.311</td>\n",
       "      <td>1</td>\n",
       "      <td>MARKET</td>\n",
       "      <td>1656028800000000000</td>\n",
       "    </tr>\n",
       "    <tr>\n",
       "      <th>2022-06-28</th>\n",
       "      <td>-108725.42520</td>\n",
       "      <td>5701.893101</td>\n",
       "      <td>20710.81</td>\n",
       "      <td>275.31</td>\n",
       "      <td>-1</td>\n",
       "      <td>MARKET</td>\n",
       "      <td>1656374400000000000</td>\n",
       "    </tr>\n",
       "  </tbody>\n",
       "</table>\n",
       "<p>570 rows × 7 columns</p>\n",
       "</div>"
      ],
      "text/plain": [
       "                     pnl          fee     price quantity side    type  \\\n",
       "2014-09-24       0.00000   100.088916    436.18  229.467    1  MARKET   \n",
       "2014-09-27   -7579.29501    92.509621    403.15  229.467   -1  MARKET   \n",
       "2014-10-09       0.00000    92.269620     353.1  261.313    1  MARKET   \n",
       "2014-10-18    7967.40288   100.236670    383.59  261.312   -1  MARKET   \n",
       "2014-10-19       0.00000   100.053446    391.64  255.473    1  MARKET   \n",
       "...                  ...          ...       ...      ...  ...     ...   \n",
       "2022-06-10      -1.32290     0.030080  30080.21    0.001   -1  MARKET   \n",
       "2022-06-22       0.00000  6051.368470  20740.13  291.771    1  MARKET   \n",
       "2022-06-23 -225687.78621  5825.680684  19966.62  291.771   -1  MARKET   \n",
       "2022-06-24       0.00000  5810.639632  21105.73  275.311    1  MARKET   \n",
       "2022-06-28 -108725.42520  5701.893101  20710.81   275.31   -1  MARKET   \n",
       "\n",
       "                      timestamp  \n",
       "2014-09-24  1411516800000000000  \n",
       "2014-09-27  1411776000000000000  \n",
       "2014-10-09  1412812800000000000  \n",
       "2014-10-18  1413590400000000000  \n",
       "2014-10-19  1413676800000000000  \n",
       "...                         ...  \n",
       "2022-06-10  1654819200000000000  \n",
       "2022-06-22  1655856000000000000  \n",
       "2022-06-23  1655942400000000000  \n",
       "2022-06-24  1656028800000000000  \n",
       "2022-06-28  1656374400000000000  \n",
       "\n",
       "[570 rows x 7 columns]"
      ]
     },
     "execution_count": 21,
     "metadata": {},
     "output_type": "execute_result"
    }
   ],
   "source": [
    "realized = pd.DataFrame(transactions_df.realized.to_dict()).T\n",
    "order = pd.DataFrame(transactions_df.order.to_dict()).T\n",
    "re_ord = realized.join(order)\n",
    "tr = re_ord.join(transactions_df).drop([\"realized\", \"order\"], axis=1)\n",
    "tr"
   ]
  },
  {
   "cell_type": "markdown",
   "id": "6a50db5b",
   "metadata": {},
   "source": [
    "## Plot buys and sells with matplotlib"
   ]
  },
  {
   "cell_type": "code",
   "execution_count": 22,
   "id": "0d59985b",
   "metadata": {
    "lines_to_next_cell": 2
   },
   "outputs": [
    {
     "data": {
      "text/plain": [
       "<matplotlib.collections.PathCollection at 0x12598d160>"
      ]
     },
     "execution_count": 22,
     "metadata": {},
     "output_type": "execute_result"
    },
    {
     "data": {
      "image/png": "[encoded data removed]",
      "text/plain": [
       "<Figure size 1152x360 with 1 Axes>"
      ]
     },
     "metadata": {
      "needs_background": "light"
     },
     "output_type": "display_data"
    }
   ],
   "source": [
    "f, axs = plt.subplots(\n",
    "    nrows=1,\n",
    "    ncols=1,\n",
    "    figsize=(16, 5),\n",
    ")\n",
    "buys = tr[tr.side == 1]\n",
    "sells = tr[tr.side == -1]\n",
    "price = fin_data[\"close\"]\n",
    "sma = fin_data.rolling(window=MA_WINDOW).mean().dropna()\n",
    "sma = pd.DataFrame(sma[\"close\"])\n",
    "price.plot(ax=axs)\n",
    "axs.scatter(buys.index, buys.price, alpha=0.8, label=\"Buy\", marker=\"^\", color=\"green\")\n",
    "axs.scatter(sells.index, sells.price, alpha=0.8, label=\"Sell\", marker=\"v\", color=\"red\")"
   ]
  },
  {
   "cell_type": "markdown",
   "id": "aad569ec",
   "metadata": {},
   "source": [
    "## Plot buys and sells with plotly"
   ]
  },
  {
   "cell_type": "code",
   "execution_count": 28,
   "id": "922a7c9d",
   "metadata": {},
   "outputs": [
    {
     "data": {
      "application/vnd.jupyter.widget-view+json": {
       "model_id": "e0f8150e716a4b7c86cbb477c4c446eb",
       "version_major": 2,
       "version_minor": 0
      },
      "text/plain": [
       "FigureWidget({\n",
       "    'data': [{'line': {'color': '#222222'},\n",
       "              'name': 'Close',\n",
       "              'type'…"
      ]
     },
     "metadata": {},
     "output_type": "display_data"
    }
   ],
   "source": [
    "# Plotting\n",
    "import plotly.graph_objects as go\n",
    "\n",
    "# import plotly.io as pio\n",
    "# pio.templates.default = \"plotly_dark\"\n",
    "\n",
    "fig = go.Figure()\n",
    "\n",
    "# price\n",
    "k = 0.01\n",
    "fig.add_trace(\n",
    "    go.Scatter(\n",
    "        x=fin_data.index, y=fin_data[\"close\"], name=\"Close\", line_color=\"#222222\"\n",
    "    )\n",
    ")\n",
    "\n",
    "# # SMA\n",
    "fig.add_trace(go.Scatter(x=sma.index, y=sma[\"close\"], name=\"SMA\", line_color=\"#FECB52\"))\n",
    "\n",
    "\n",
    "# buy signals\n",
    "fig.add_trace(\n",
    "    go.Scatter(\n",
    "        x=buys.index,\n",
    "        y=(1 - k) * buys.price,\n",
    "        name=\"Buys\",\n",
    "        mode=\"markers\",\n",
    "        marker=dict(color=\"#00CC96\", size=10, symbol=\"triangle-up\"),\n",
    "    )\n",
    ")\n",
    "# sell signals\n",
    "fig.add_trace(\n",
    "    go.Scatter(\n",
    "        x=sells.index,\n",
    "        y=(1 + k) * sells.price,\n",
    "        name=\"Sells\",\n",
    "        mode=\"markers\",\n",
    "        marker=dict(color=\"#EF553B\", size=10, symbol=\"triangle-down\"),\n",
    "    )\n",
    ")\n",
    "\n",
    "fig.update_layout(\n",
    "    autosize=False,\n",
    "    width=960,\n",
    "    height=700,\n",
    ")\n",
    "\n",
    "# Add range slider\n",
    "fig.update_layout(\n",
    "    xaxis=dict(rangeslider=dict(visible=True), type=\"date\"),\n",
    "    yaxis=dict(autorange=True, fixedrange=False),\n",
    ")\n",
    "\n",
    "\n",
    "layout = dict(\n",
    "    title=\"Time series with range slider and selectors\",\n",
    "    xaxis=dict(\n",
    "        rangeselector=dict(\n",
    "            buttons=list(\n",
    "                [\n",
    "                    dict(count=1, label=\"1m\", step=\"month\", stepmode=\"backward\"),\n",
    "                    dict(count=6, label=\"6m\", step=\"month\", stepmode=\"backward\"),\n",
    "                    dict(count=1, label=\"YTD\", step=\"year\", stepmode=\"todate\"),\n",
    "                    dict(count=1, label=\"1y\", step=\"year\", stepmode=\"backward\"),\n",
    "                    dict(step=\"all\"),\n",
    "                ]\n",
    "            )\n",
    "        ),\n",
    "        rangeslider=dict(visible=True),\n",
    "        type=\"date\",\n",
    "    ),\n",
    ")\n",
    "\n",
    "# fig.show()\n",
    "figu = go.FigureWidget(data=fig, layout=layout)\n",
    "\n",
    "\n",
    "def zoom(layout, xrange):\n",
    "    in_view = fin_data.loc[figu.layout.xaxis.range[0] : figu.layout.xaxis.range[1]]\n",
    "    figu.layout.yaxis.range = [in_view.high.min() - 10, in_view.high.max() + 10]\n",
    "\n",
    "\n",
    "figu.layout.on_change(zoom, \"xaxis.range\")\n",
    "figu"
   ]
  },
  {
   "cell_type": "code",
   "execution_count": null,
   "id": "f30e8249",
   "metadata": {},
   "outputs": [],
   "source": []
  }
 ],
 "metadata": {
  "hide_input": false,
  "jupytext": {
   "formats": "ipynb,py:percent"
  },
  "kernelspec": {
   "display_name": "Python 3 (ipykernel)",
   "language": "python",
   "name": "python3"
  },
  "language_info": {
   "codemirror_mode": {
    "name": "ipython",
    "version": 3
   },
   "file_extension": ".py",
   "mimetype": "text/x-python",
   "name": "python",
   "nbconvert_exporter": "python",
   "pygments_lexer": "ipython3",
   "version": "3.9.13"
  },
  "toc": {
   "base_numbering": 1,
   "nav_menu": {},
   "number_sections": false,
   "sideBar": true,
   "skip_h1_title": false,
   "title_cell": "Table of Contents",
   "title_sidebar": "Contents",
   "toc_cell": false,
   "toc_position": {},
   "toc_section_display": true,
   "toc_window_display": true
  }
 },
 "nbformat": 4,
 "nbformat_minor": 5
}
